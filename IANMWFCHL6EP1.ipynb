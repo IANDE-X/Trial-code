{
  "nbformat": 4,
  "nbformat_minor": 0,
  "metadata": {
    "colab": {
      "provenance": [],
      "authorship_tag": "ABX9TyMWk298aJZ6tde60rbAHXWx",
      "include_colab_link": true
    },
    "kernelspec": {
      "name": "python3",
      "display_name": "Python 3"
    },
    "language_info": {
      "name": "python"
    }
  },
  "cells": [
    {
      "cell_type": "markdown",
      "metadata": {
        "id": "view-in-github",
        "colab_type": "text"
      },
      "source": [
        "<a href=\"https://colab.research.google.com/github/IANDE-X/Trial-code/blob/main/IANMWFCHL6EP1.ipynb\" target=\"_parent\"><img src=\"https://colab.research.google.com/assets/colab-badge.svg\" alt=\"Open In Colab\"/></a>"
      ]
    },
    {
      "cell_type": "code",
      "source": [],
      "metadata": {
        "id": "wsQSXvZBDnx0"
      },
      "execution_count": null,
      "outputs": []
    },
    {
      "cell_type": "markdown",
      "source": [
        "Question 1:LISTS ----THIS LIST IS ABOUT 10 VAIRABLES(COUNTRIES)\n",
        "1. Below  Country  Population variables in millions "
      ],
      "metadata": {
        "id": "yQYFAsSuEgY3"
      }
    },
    {
      "cell_type": "code",
      "source": [
        "US=10\n",
        "UK=50\n",
        "HU=31\n",
        "SA=60\n",
        "UG=57\n",
        "TZ=89\n",
        "FN=78\n",
        "KE=90\n",
        "AU=45\n",
        "JP=90\n",
        "\n"
      ],
      "metadata": {
        "id": "5NHJ064WEkd3"
      },
      "execution_count": 8,
      "outputs": []
    },
    {
      "cell_type": "markdown",
      "source": [
        "a.From the given variables above create list of population"
      ],
      "metadata": {
        "id": "J761zmlpZrgW"
      }
    },
    {
      "cell_type": "code",
      "source": [
        "population=[10,50,31,60,57,89,78,90,45,90]\n",
        "#Print out population \n",
        "print(population)"
      ],
      "metadata": {
        "colab": {
          "base_uri": "https://localhost:8080/"
        },
        "id": "SKlVOl1fHbyR",
        "outputId": "5ced856b-c4de-4824-a17d-411a18a09dc8"
      },
      "execution_count": 3,
      "outputs": [
        {
          "output_type": "stream",
          "name": "stdout",
          "text": [
            "[10, 50, 31, 60, 57, 89, 78, 90, 45, 90]\n"
          ]
        }
      ]
    },
    {
      "cell_type": "markdown",
      "source": [
        "b. Create anew list information as list of lists"
      ],
      "metadata": {
        "id": "YVM1dNFdZxfs"
      }
    },
    {
      "cell_type": "code",
      "source": [
        "countries_1=[\n",
        "    \n",
        "    [\"United States\", US],\n",
        "    [\"United Kingdom\",UK],\n",
        "    [\"Hungary\",HU],\n",
        "    [\"South Africa\",SA],\n",
        "    [\"Uganda\",UG],\n",
        "    [\"Tanzania\",TZ],\n",
        "    [\"Finland\",FN],\n",
        "    [\"Australia\",AU],\n",
        "    [\"Kenya\",KE],\n",
        "    [\"Japan\",JP]\n",
        "\n",
        "    ]\n",
        "#Print out the countries\n",
        "print(countries_1)\n",
        "#Print out the type of thr countries\n",
        "print(type(countries_1))"
      ],
      "metadata": {
        "colab": {
          "base_uri": "https://localhost:8080/"
        },
        "id": "qxrz7sOYIg6d",
        "outputId": "ec306c9a-d2bd-4068-dbc4-d89fe2b46719"
      },
      "execution_count": 9,
      "outputs": [
        {
          "output_type": "stream",
          "name": "stdout",
          "text": [
            "[['UnitedStates', 10], ['United Kingdom', 50], ['Hungary', 31], ['South Africa', 60], ['Uganda', 57], ['Tanzania', 89], ['Finland', 78], ['Australia', 45], ['Kenya', 90], ['Japan', 90]]\n",
            "<class 'list'>\n"
          ]
        }
      ]
    },
    {
      "cell_type": "markdown",
      "source": [
        "c . Adapt list areas"
      ],
      "metadata": {
        "id": "4IdAvRg2Z64_"
      }
    },
    {
      "cell_type": "code",
      "source": [
        "population=[\"United States\",US,\"United Kingdom\",UK,\"Hungary\",HU,\"South Africa\",SA,\"Uganda\",UG,\"Tanzania\",TZ,\"Finland\",FN,\"Australia\",AU, \"Kenya\",KE,\"Japan\",JP]\n",
        "#Print population \n",
        "print(population)"
      ],
      "metadata": {
        "colab": {
          "base_uri": "https://localhost:8080/"
        },
        "id": "M4N6nX41Oix7",
        "outputId": "c191f30f-179a-4def-edc4-9f11c2e66e4d"
      },
      "execution_count": 15,
      "outputs": [
        {
          "output_type": "stream",
          "name": "stdout",
          "text": [
            "['United States', 10, 'United Kingdom', 50, 'Hungary', 31, 'South Africa', 60, 'Uganda', 57, 'Tanzania', 89, 'Finland', 78, 'Australia', 45, 'Kenya', 90, 'Japan', 90]\n"
          ]
        }
      ]
    },
    {
      "cell_type": "markdown",
      "source": [
        "d .Looking at individual element in list. Given the list below"
      ],
      "metadata": {
        "id": "vYwVfI10aASU"
      }
    },
    {
      "cell_type": "code",
      "source": [
        "population=[\"United States\", 10, \"United Kingdom\", 50, \"Hungary\", 31, \"South Africa\", 60, \"Uganda\", 57,\"Tanzania\", 89, \"Finland\", 78, \"Australia\", 90, \"Kenya\", 45, \"Japan\", 90]\n",
        "#Print out second element \n",
        "print(population[1])\n",
        "#Print out  the last element\n",
        "print(population[-1]) \n",
        "#Print out the  usian population\n",
        "print(population[5])\n",
        "\n"
      ],
      "metadata": {
        "colab": {
          "base_uri": "https://localhost:8080/"
        },
        "id": "6s7Zj6onYgQO",
        "outputId": "937d9f96-f6a0-4639-a0f0-f54e00e7c440"
      },
      "execution_count": 16,
      "outputs": [
        {
          "output_type": "stream",
          "name": "stdout",
          "text": [
            "10\n",
            "90\n",
            "31\n"
          ]
        }
      ]
    },
    {
      "cell_type": "markdown",
      "source": [
        "e .Replacing elements in a list. Given the list below"
      ],
      "metadata": {
        "id": "HnRb9xArcSbC"
      }
    },
    {
      "cell_type": "code",
      "source": [
        "population=[\"United States\", 10, \"United Kingdom\", 50, \"Hungary\", 31, \"South Africa\", 60, \"Uganda\", 57,\"Tanzania\", 89, \"Finland\", 78, \"Australia\", 90, \"Kenya\", 45, \"Japan\", 90]\n",
        "#correct us population\n",
        "population[1]=111\n",
        "#Change \"hungaryian\" to \"magyar\"\n",
        "population[6]=\"Greece\"\n",
        "print(population)\n"
      ],
      "metadata": {
        "colab": {
          "base_uri": "https://localhost:8080/"
        },
        "id": "d_SJB1YAcYU2",
        "outputId": "fb56b43c-e1ab-47da-e06e-cb8474cc9ab4"
      },
      "execution_count": 18,
      "outputs": [
        {
          "output_type": "stream",
          "name": "stdout",
          "text": [
            "['United States', 111, 'United Kingdom', 50, 'Hungary', 31, 'Greece', 60, 'Uganda', 57, 'Tanzania', 89, 'Finland', 78, 'Australia', 90, 'Kenya', 45, 'Japan', 90]\n"
          ]
        }
      ]
    },
    {
      "cell_type": "markdown",
      "source": [
        "f.Extending elements in a list. Given list below create the areas list and make some changes"
      ],
      "metadata": {
        "id": "eOtQsLuidwhX"
      }
    },
    {
      "cell_type": "code",
      "source": [
        "population=[\"United States\", 10, \"United Kingdom\", 50, \"Hungary\", 31, \"South Africa\", 60, \"Uganda\", 57,\"Tanzania\", 89, \"Finland\", 78, \"Australia\", 90, \"Kenya\", 45, \"Japan\", 90]\n",
        "#Add CANADA data to population, new list is population_1\n",
        "population_1=population+[\"Canada\", 66]\n",
        "#Add Ethiopia data to population_1, new list is population_2\n",
        "population_2 = population_1 + [\"Ethiopia\",15.45]\n",
        "print(population_1) # print pop 1\n",
        "print(population_2)#print pop 2\n"
      ],
      "metadata": {
        "colab": {
          "base_uri": "https://localhost:8080/"
        },
        "id": "exKDlR96dyr9",
        "outputId": "1fffba63-b8c7-424f-f735-39e6be5babfc"
      },
      "execution_count": 21,
      "outputs": [
        {
          "output_type": "stream",
          "name": "stdout",
          "text": [
            "['United States', 10, 'United Kingdom', 50, 'Hungary', 31, 'South Africa', 60, 'Uganda', 57, 'Tanzania', 89, 'Finland', 78, 'Australia', 90, 'Kenya', 45, 'Japan', 90, 'Canada', 66]\n",
            "['United States', 10, 'United Kingdom', 50, 'Hungary', 31, 'South Africa', 60, 'Uganda', 57, 'Tanzania', 89, 'Finland', 78, 'Australia', 90, 'Kenya', 45, 'Japan', 90, 'Canada', 66, 'Ethiopia', 15.45]\n"
          ]
        }
      ]
    },
    {
      "cell_type": "markdown",
      "source": [
        "g. Appending element to list. Given the list of population "
      ],
      "metadata": {
        "id": "GyWBKzb4egUr"
      }
    },
    {
      "cell_type": "code",
      "source": [
        "population=[10,50,31,60,57,89,78,90,45,90]\n",
        "#Use append twice to add canada and Ethipia population\n",
        "population.append(66)\n",
        "population.append(15.45)\n",
        "# Print out population\n",
        "print(population)\n",
        "# Reverse the orders of the elements in population\n",
        "population.reverse()\n",
        "# Print out population\n",
        "print(population)\n",
        "\n"
      ],
      "metadata": {
        "colab": {
          "base_uri": "https://localhost:8080/"
        },
        "id": "y78g6c9JeqW3",
        "outputId": "d38d5532-bf7c-4e5b-c1c6-df55b1fbf3d2"
      },
      "execution_count": 24,
      "outputs": [
        {
          "output_type": "stream",
          "name": "stdout",
          "text": [
            "[10, 50, 31, 60, 57, 89, 78, 90, 45, 90, 66, 15.45]\n",
            "[15.45, 66, 90, 45, 90, 78, 89, 57, 60, 31, 50, 10]\n"
          ]
        }
      ]
    },
    {
      "cell_type": "markdown",
      "source": [
        "2.TUPLES----THIS TUPLE IS ABOUT CITIES AND POPULATION IN MILIONS\n",
        "\n",
        "1.Below Cities Population variables in millions"
      ],
      "metadata": {
        "id": "R0ZKTc7hUXJO"
      }
    },
    {
      "cell_type": "code",
      "source": [
        "NY=6\n",
        "MU=2\n",
        "OS=1\n",
        "TO =1.5\n",
        "BP=2\n",
        "LA=5\n",
        "BA=4\n",
        "BJ=6\n",
        "HK=3\n",
        "SJ=7\n",
        "\n"
      ],
      "metadata": {
        "id": "ryNUMdfvVVLL"
      },
      "execution_count": 11,
      "outputs": []
    },
    {
      "cell_type": "markdown",
      "source": [
        "a.From the given variables above create list of population"
      ],
      "metadata": {
        "id": "TkgQ2sZ1WO3u"
      }
    },
    {
      "cell_type": "code",
      "source": [
        "citiespopulation=[6,2,1,1.5,2,5,4,6,3,7]\n",
        "#Print out population \n",
        "print(citiespopulation)"
      ],
      "metadata": {
        "colab": {
          "base_uri": "https://localhost:8080/"
        },
        "id": "nxv_qyxqVU7R",
        "outputId": "71b37c2d-c7ba-4d43-cc44-e0fba5dfbad2"
      },
      "execution_count": 1,
      "outputs": [
        {
          "output_type": "stream",
          "name": "stdout",
          "text": [
            "[6, 2, 1, 1.5, 2, 5, 4, 6, 3, 7]\n"
          ]
        }
      ]
    },
    {
      "cell_type": "markdown",
      "source": [
        "b. Create anew list information as list of lists"
      ],
      "metadata": {
        "id": "sM6J5OmLWnj2"
      }
    },
    {
      "cell_type": "code",
      "source": [
        "cities_2=(\n",
        "    \n",
        "(\"Newyork\", NY),\n",
        "(\"Mumbai \",MU),\n",
        "(\"Oslo\",OS),\n",
        "(\"Toronto \",TO),\n",
        "(\"Budapest \",BP),\n",
        "(\"Los Angeles \",LA),\n",
        "(\"Bueno Aires \",BA),\n",
        "(\"Beijing \",BJ),\n",
        "(\"Honk Kong \",HK),\n",
        "(\"San Jose \",SJ)\n",
        "\n",
        "\n",
        ")\n",
        "#Print out the new \n",
        "print(cities_2)\n",
        "#Print out the type of this list  \n",
        "print(type(cities_2))"
      ],
      "metadata": {
        "colab": {
          "base_uri": "https://localhost:8080/"
        },
        "id": "d1E7hFrxW0UW",
        "outputId": "fbc759ff-d8eb-4093-fde3-9a15c43b93a9"
      },
      "execution_count": 14,
      "outputs": [
        {
          "output_type": "stream",
          "name": "stdout",
          "text": [
            "(('Newyork', 6), ('Mumbai ', 2), ('Oslo', 1), ('Toronto ', 1.5), ('Budapest ', 2), ('Los Angeles ', 5), ('Bueno Aires ', 4), ('Beijing ', 6), ('Honk Kong ', 3), ('San Jose ', 7))\n",
            "<class 'tuple'>\n"
          ]
        }
      ]
    },
    {
      "cell_type": "code",
      "source": [],
      "metadata": {
        "id": "5Wq7Duknfqkf"
      },
      "execution_count": null,
      "outputs": []
    },
    {
      "cell_type": "markdown",
      "source": [
        "c .Adapt list population "
      ],
      "metadata": {
        "id": "VGABO_sNfq3a"
      }
    },
    {
      "cell_type": "code",
      "source": [
        "population=(\"NewYork\",NY,\"Mumbai\",MU,\"Oslo\",OS,\"Toronto\",TO,\"Budapest\",BP,\"Los Angeles\",LA,\"Bueno Aires\",BA,\"Beijing\",BJ, \"Hong Kong\",HK,\"San Jose\",SJ)\n",
        "#Print population \n",
        "print(population)"
      ],
      "metadata": {
        "colab": {
          "base_uri": "https://localhost:8080/"
        },
        "id": "YxXewJijfvsl",
        "outputId": "ef5bc456-d672-47ee-c42f-29cce2236d17"
      },
      "execution_count": 26,
      "outputs": [
        {
          "output_type": "stream",
          "name": "stdout",
          "text": [
            "('NewYork', 6, 'Mumbai', 2, 'Oslo', 1, 'Toronto', 1.5, 'Budapest', 2, 'Los Angeles', 5, 'Bueno Aires', 4, 'Beijing', 6, 'Hong Kong', 3, 'San Jose', 7)\n"
          ]
        }
      ]
    },
    {
      "cell_type": "markdown",
      "source": [
        "d .Looking at individual element in list. Given the list below"
      ],
      "metadata": {
        "id": "Xf4SaXaIhAy1"
      }
    },
    {
      "cell_type": "code",
      "source": [
        "population=(\"New York\", 6, \"Mumbai\", 2, \"Oslo\", 1, \"Toronto\", 1.5, \"Budapest\", 2,\"Los Angeles\", 5, \"Bueno Aires\", 4, \"Beijing\", 6, \"Hong Kong\", 3, \"San Jose\", 7)\n",
        "#Print out second element \n",
        "print(population[1])\n",
        "#Print out  the last element\n",
        "print(population[-1]) \n",
        "#Print out the  usian population\n",
        "print(population[5])\n"
      ],
      "metadata": {
        "colab": {
          "base_uri": "https://localhost:8080/"
        },
        "id": "HLr2EVzkhCoI",
        "outputId": "68f3f713-4463-40f3-f910-68bf889db785"
      },
      "execution_count": 28,
      "outputs": [
        {
          "output_type": "stream",
          "name": "stdout",
          "text": [
            "6\n",
            "7\n",
            "1\n"
          ]
        }
      ]
    },
    {
      "cell_type": "markdown",
      "source": [
        "e .Replacing elements in a list. Given the list below"
      ],
      "metadata": {
        "id": "OCQWDnIgiJHh"
      }
    },
    {
      "cell_type": "code",
      "source": [
        "population=(\"New York\", 6, \"Mumbai\", 2, \"Oslo\", 1, \"Toronto\", 1.5, \"Budapest\", 2,\"Los Angeles\", 5, \"Bueno Aires\", 4, \"Beijing\", 6, \"Hong Kong\", 3, \"San Jose\", 7)\n",
        "#correct NY  population\n",
        "x= list(population)# change to list \n",
        "x[1]=18# using it as list \n",
        "#Change \"TORONTO \" to \"Panama\"\n",
        "x[6]=\"Panama\"\n",
        "population=tuple(x)# change back to tuple \n",
        "print(population)"
      ],
      "metadata": {
        "colab": {
          "base_uri": "https://localhost:8080/"
        },
        "id": "NldwATMqiL_E",
        "outputId": "c7d277fa-3ff2-4d4e-f89f-68bb7903385a"
      },
      "execution_count": 32,
      "outputs": [
        {
          "output_type": "stream",
          "name": "stdout",
          "text": [
            "('New York', 18, 'Mumbai', 2, 'Oslo', 1, 'Panama', 1.5, 'Budapest', 2, 'Los Angeles', 5, 'Bueno Aires', 4, 'Beijing', 6, 'Hong Kong', 3, 'San Jose', 7)\n"
          ]
        }
      ]
    },
    {
      "cell_type": "code",
      "source": [],
      "metadata": {
        "id": "GU2zFZD0iSjs"
      },
      "execution_count": null,
      "outputs": []
    },
    {
      "cell_type": "markdown",
      "source": [
        "f.Extending elements in a list. Given list below create the areas list and make some changes"
      ],
      "metadata": {
        "id": "RbrzkdkWkfXP"
      }
    },
    {
      "cell_type": "code",
      "source": [
        "population=(\"New York\", 6, \"Mumbai\", 2, \"Oslo\", 1, \"Toronto\", 1.5, \"Budapest\", 2,\"Los Angeles\", 5, \"Bueno Aires\", 4, \"Beijing\", 6, \"Hong Kong\", 3, \"San Jose\", 7)\n",
        "#Add NY data to population, new list is population_1\n",
        "population_1=population+(\"Panama\", 3.6)\n",
        "#Add Jerusalem data to population_1, new list is population_2\n",
        "population_2 = population_1 + (\"Jerusalem\",15.45)\n",
        "print(population_1) # print pop 1\n",
        "print(population_2)#print pop 2"
      ],
      "metadata": {
        "colab": {
          "base_uri": "https://localhost:8080/"
        },
        "id": "_Su-1R4_khj1",
        "outputId": "d931d5dd-3825-47e4-8941-a144fcc29a10"
      },
      "execution_count": 34,
      "outputs": [
        {
          "output_type": "stream",
          "name": "stdout",
          "text": [
            "('New York', 6, 'Mumbai', 2, 'Oslo', 1, 'Toronto', 1.5, 'Budapest', 2, 'Los Angeles', 5, 'Bueno Aires', 4, 'Beijing', 6, 'Hong Kong', 3, 'San Jose', 7, 'Panama', 3.6)\n",
            "('New York', 6, 'Mumbai', 2, 'Oslo', 1, 'Toronto', 1.5, 'Budapest', 2, 'Los Angeles', 5, 'Bueno Aires', 4, 'Beijing', 6, 'Hong Kong', 3, 'San Jose', 7, 'Panama', 3.6, 'Jerusalem', 15.45)\n"
          ]
        }
      ]
    },
    {
      "cell_type": "markdown",
      "source": [
        "g. Appending element to list. Given the list of population"
      ],
      "metadata": {
        "id": "yMBKbKgmlS0O"
      }
    },
    {
      "cell_type": "code",
      "source": [
        "population=[6,2,1,1.5,2,5,4,6,3,7]\n",
        "#Use append twice to add Panam and Jerusalema population\n",
        "population.append(3.6)\n",
        "population.append(15.45)\n",
        "# Print out population\n",
        "print(population)\n",
        "# Reverse the orders of the elements in population\n",
        "population.reverse()\n",
        "# Print out population\n",
        "print(population)"
      ],
      "metadata": {
        "colab": {
          "base_uri": "https://localhost:8080/"
        },
        "id": "XkGVGBgNlXvN",
        "outputId": "66a3331e-0fcb-4bf9-ea0c-2e87493c09f8"
      },
      "execution_count": 35,
      "outputs": [
        {
          "output_type": "stream",
          "name": "stdout",
          "text": [
            "[6, 2, 1, 1.5, 2, 5, 4, 6, 3, 7, 3.6, 15.45]\n",
            "[15.45, 3.6, 7, 3, 6, 4, 5, 2, 1.5, 1, 2, 6]\n"
          ]
        }
      ]
    },
    {
      "cell_type": "markdown",
      "source": [
        "3.SETS\n",
        "1. Below are area variables in square meters\n"
      ],
      "metadata": {
        "id": "FSfOWOsMmaAS"
      }
    },
    {
      "cell_type": "code",
      "source": [
        "N=11\n",
        "O=16\n",
        "E=24\n",
        "J=18\n",
        "W=19\n",
        "B=15\n",
        "L=18\n",
        "C=21\n",
        "S=26\n",
        "P=67"
      ],
      "metadata": {
        "id": "N8LsOZ5dlXjl"
      },
      "execution_count": 41,
      "outputs": []
    },
    {
      "cell_type": "markdown",
      "source": [
        "a) From the given variables above create list areas"
      ],
      "metadata": {
        "id": "c0t_GBwXnm_n"
      }
    },
    {
      "cell_type": "code",
      "source": [
        "age={11,16,24,18,19,15,18,21,12,67}\n",
        "#Print age\n",
        "print(age)"
      ],
      "metadata": {
        "colab": {
          "base_uri": "https://localhost:8080/"
        },
        "id": "HODqZwFxnqF-",
        "outputId": "f40eca2a-a948-4974-97bb-625062dea431"
      },
      "execution_count": 38,
      "outputs": [
        {
          "output_type": "stream",
          "name": "stdout",
          "text": [
            "{67, 11, 12, 15, 16, 18, 19, 21, 24}\n"
          ]
        }
      ]
    },
    {
      "cell_type": "markdown",
      "source": [
        "b) Create a house information as list of lists\n"
      ],
      "metadata": {
        "id": "d9H-lKJ_oaCq"
      }
    },
    {
      "cell_type": "code",
      "source": [
        "thisset=set((\n",
        "    (\"Noah\",N),\n",
        "    (\"Oliver\",O),\n",
        "    (\"Elijah\",E),\n",
        "    (\"John\", J),\n",
        "   (\"William\",W),\n",
        "    (\"Brian\",B),\n",
        "    (\"Lucas\", L),\n",
        "    (\"Carlos\",C),\n",
        "    (\"Sammy\",S),\n",
        "    (\"Paul\",P)\n",
        "\n",
        "))\n",
        "#Print out names\n",
        "print(thisset)\n",
        "#Print out the type of names\n",
        "print(type(thisset))"
      ],
      "metadata": {
        "colab": {
          "base_uri": "https://localhost:8080/"
        },
        "id": "dSyMoyTDocaS",
        "outputId": "0bbffdaa-4bc4-4e30-93ea-5e9ecba96de1"
      },
      "execution_count": 52,
      "outputs": [
        {
          "output_type": "stream",
          "name": "stdout",
          "text": [
            "{('William', 19), ('Paul', 67), ('Sammy', 26), ('Carlos', 21), ('Noah', 11), ('Lucas', 18), ('Brian', 15), ('John', 18), ('Oliver', 16), ('Elijah', 24)}\n",
            "<class 'set'>\n"
          ]
        }
      ]
    },
    {
      "cell_type": "markdown",
      "source": [
        "c.Adapt set ages"
      ],
      "metadata": {
        "id": "BuaChQAcrjUX"
      }
    },
    {
      "cell_type": "code",
      "source": [
        "age={\"Noah\",N,\"Oliver\",O,\"Elijah\",E,\"John\",J,\"William\",W, \"Brian\",B,\"Lucas\",L, \"Carlos\",C, \"Sammy\",S, \"Paul\",P}\n",
        "#Print agess\n",
        "print(age)\n"
      ],
      "metadata": {
        "colab": {
          "base_uri": "https://localhost:8080/"
        },
        "id": "tODrvofArsit",
        "outputId": "fcd45872-4499-4409-faad-71d7aa82b6f2"
      },
      "execution_count": 57,
      "outputs": [
        {
          "output_type": "stream",
          "name": "stdout",
          "text": [
            "{'Lucas', 11, 15, 16, 'William', 18, 19, 21, 'John', 24, 26, 'Noah', 'Elijah', 67, 'Carlos', 'Paul', 'Brian', 'Oliver', 'Sammy'}\n"
          ]
        }
      ]
    },
    {
      "cell_type": "markdown",
      "source": [
        "d.) Looking at individual element in list. Given the list below"
      ],
      "metadata": {
        "id": "6EH3lxEktKxc"
      }
    },
    {
      "cell_type": "markdown",
      "source": [
        "In a set we can not perform indexing, first, we have to convert that set into a list and then perform the indexing. So we are using the Python list() function to convert the set into the list."
      ],
      "metadata": {
        "id": "4HnIa-T_wvW1"
      }
    },
    {
      "cell_type": "code",
      "source": [
        "age={\"Noah\", 11, \"Oliver\", 16, \"Elijah\", 24, \"John\", 18, \"William\", 19,\"Brian\", 15, \"Lucas\", 18, \"Carlos\", 21, \"Sammy\", 26, \"Paul\", 67}\n",
        "#Print out second element \n",
        "print(\"1st index: \", list(age)[0])\n",
        "#Print out  the last element\n",
        "print(\"last index: \", list(age)[-1])\n",
        "#Print out the  age #6\n",
        "print(\"5th index: \", list(age)[6])\n"
      ],
      "metadata": {
        "colab": {
          "base_uri": "https://localhost:8080/"
        },
        "id": "I2naoL1ntNM3",
        "outputId": "72c69422-3669-4b4a-a350-c72f19d09282"
      },
      "execution_count": 64,
      "outputs": [
        {
          "output_type": "stream",
          "name": "stdout",
          "text": [
            "1st index:  Lucas\n",
            "last index:  Elijah\n",
            "5th index:  16\n"
          ]
        }
      ]
    },
    {
      "cell_type": "markdown",
      "source": [
        "e.e) Replacing elements in a set\n",
        "*****\n",
        "ANS IS:\n",
        "Unchangeable\n",
        "Set items are unchangeable, meaning that we cannot change the items after the set has been created."
      ],
      "metadata": {
        "id": "oPZGPVIatRi-"
      }
    },
    {
      "cell_type": "markdown",
      "source": [
        "f.f) Extending elements in a list. Given list below create the areas list and make some changes"
      ],
      "metadata": {
        "id": "l5xjKz_RtUHw"
      }
    },
    {
      "cell_type": "code",
      "source": [],
      "metadata": {
        "id": "s8UEjX1ftX4e"
      },
      "execution_count": null,
      "outputs": []
    },
    {
      "cell_type": "markdown",
      "source": [
        "g.g) Appending element to list. Given the set"
      ],
      "metadata": {
        "id": "eaBDTuHZtYWq"
      }
    },
    {
      "cell_type": "code",
      "source": [
        "age={11,16,24,18,19,15,18,21,12,67}\n",
        "# Use add twice to add ages 13 and 9 \n",
        "age.add(13)\n",
        "age.add(9)\n",
        "# Print out ages\n",
        "print(age)\n",
        "# Reverse the orders of the elements in cant work as the items are immutable \n"
      ],
      "metadata": {
        "colab": {
          "base_uri": "https://localhost:8080/"
        },
        "id": "9HtIs6VWxq2B",
        "outputId": "6ab2e3c7-d9da-4831-80b3-8b897723dccb"
      },
      "execution_count": 66,
      "outputs": [
        {
          "output_type": "stream",
          "name": "stdout",
          "text": [
            "{67, 9, 11, 12, 13, 15, 16, 18, 19, 21, 24}\n"
          ]
        }
      ]
    },
    {
      "cell_type": "markdown",
      "source": [
        "Lists, MUtable , Tuples Mutable but Sets are immutable hence some functionalities like changing / updating a avalue are not possible , reversing also \n",
        "\n",
        "\n",
        "FINISHED:Friday  10/3/2023\n",
        "FCHL6E!"
      ],
      "metadata": {
        "id": "J0pfBHO6yYLf"
      }
    }
  ]
}